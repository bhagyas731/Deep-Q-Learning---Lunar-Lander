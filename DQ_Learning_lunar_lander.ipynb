{
 "cells": [
  {
   "cell_type": "markdown",
   "metadata": {},
   "source": [
    "# Deep Q-Learning - Lunar Lander\n",
    "\n",
    "In this assignment, you will train an agent to land a lunar lander safely on a landing pad on the surface of the moon.\n",
    "\n",
    "\n",
    "# Outline\n",
    "- [ 1 - Import Packages <img align=\"Right\" src=\"./images/lunar_lander.gif\" width = 60% >](#1)\n",
    "- [ 2 - Hyperparameters](#2)\n",
    "- [ 3 - The Lunar Lander Environment](#3)\n",
    "  - [ 3.1 Action Space](#3.1)\n",
    "  - [ 3.2 Observation Space](#3.2)\n",
    "  - [ 3.3 Rewards](#3.3)\n",
    "  - [ 3.4 Episode Termination](#3.4)\n",
    "- [ 4 - Load the Environment](#4)\n",
    "- [ 5 - Interacting with the Gym Environment](#5)\n",
    "    - [ 5.1 Exploring the Environment's Dynamics](#5.1)\n",
    "- [ 6 - Deep Q-Learning](#6)\n",
    "  - [ 6.1 Target Network](#6.1)\n",
    "    - [ Exercise 1](#ex01)\n",
    "  - [ 6.2 Experience Replay](#6.2)\n",
    "- [ 7 - Deep Q-Learning Algorithm with Experience Replay](#7)\n",
    "  - [ Exercise 2](#ex02)\n",
    "- [ 8 - Update the Network Weights](#8)\n",
    "- [ 9 - Train the Agent](#9)\n",
    "- [ 10 - See the Trained Agent In Action](#10)\n",
    "- [ 11 - Congratulations!](#11)\n",
    "- [ 12 - References](#12)\n"
   ]
  },
  {
   "cell_type": "markdown",
   "metadata": {},
   "source": [
    "<a name=\"1\"></a>\n",
    "## 1 - Import Packages\n",
    "\n",
    "We'll make use of the following packages:\n",
    "- `numpy` is a package for scientific computing in python.\n",
    "- `deque` will be our data structure for our memory buffer.\n",
    "- `namedtuple` will be used to store the experience tuples.\n",
    "- The `gym` toolkit is a collection of environments that can be used to test reinforcement learning algorithms. We should note that in this notebook we are using `gym` version `0.24.0`.\n",
    "- `PIL.Image` and `pyvirtualdisplay` are needed to render the Lunar Lander environment.\n",
    "- We will use several modules from the `tensorflow.keras` framework for building deep learning models.\n",
    "- `utils` is a module that contains helper functions for this assignment. You do not need to modify the code in this file.\n",
    "\n",
    "Run the cell below to import all the necessary packages."
   ]
  },
  {
   "cell_type": "code",
   "execution_count": 13,
   "metadata": {
    "id": "KYbOPKRtfQOr"
   },
   "outputs": [],
   "source": [
    "import time\n",
    "from collections import deque, namedtuple\n",
    "\n",
    "import gym\n",
    "import numpy as np\n",
    "import PIL.Image\n",
    "import tensorflow as tf\n",
    "import utils\n",
    "\n",
    "from pyvirtualdisplay import Display\n",
    "from tensorflow.keras import Sequential\n",
    "from tensorflow.keras.layers import Dense, Input\n",
    "from tensorflow.keras.losses import MSE\n",
    "from tensorflow.keras.optimizers import Adam"
   ]
  },
  {
   "cell_type": "code",
   "execution_count": 14,
   "metadata": {},
   "outputs": [],
   "source": [
    "# Set up a virtual display to render the Lunar Lander environment.\n",
    "Display(visible=0, size=(840, 480)).start();\n",
    "\n",
    "# Set the random seed for TensorFlow.\n",
    "tf.random.set_seed(utils.SEED)"
   ]
  },
  {
   "cell_type": "markdown",
   "metadata": {},
   "source": [
    "<a name=\"2\"></a>\n",
    "## 2 - Hyperparameters\n",
    "\n",
    "Run the cell below to set the hyperparameters."
   ]
  },
  {
   "cell_type": "code",
   "execution_count": 15,
   "metadata": {},
   "outputs": [],
   "source": [
    "MEMORY_SIZE = 100_000     # size of memory buffer.\n",
    "GAMMA = 0.995             # discount factor.\n",
    "ALPHA = 1e-3              # learning rate.\n",
    "NUM_STEPS_FOR_UPDATE = 4  # perform a learning update every C time steps."
   ]
  },
  {
   "cell_type": "markdown",
   "metadata": {},
   "source": [
    "<a name=\"3\"></a>\n",
    "## 3 - The Lunar Lander Environment\n",
    "\n",
    "In this notebook we will be using [OpenAI's Gym Library](https://www.gymlibrary.dev/). The Gym library provides a wide variety of environments for reinforcement learning. To put it simply, an environment represents a problem or task to be solved. In this notebook, we will try to solve the Lunar Lander environment using reinforcement learning.\n",
    "\n",
    "The goal of the Lunar Lander environment is to land the lunar lander safely on the landing pad on the surface of the moon. The landing pad is designated by two flag poles and it is always at coordinates `(0,0)` but the lander is also allowed to land outside of the landing pad. The lander starts at the top center of the environment with a random initial force applied to its center of mass and has infinite fuel. The environment is considered solved if you get `200` points. \n",
    "\n",
    "<br>\n",
    "<br>\n",
    "<figure>\n",
    "  <img src = \"images/lunar_lander.gif\" width = 40%>\n",
    "      <figcaption style = \"text-align: center; font-style: italic\">Fig 1. Lunar Lander Environment.</figcaption>\n",
    "</figure>\n",
    "\n",
    "\n",
    "\n",
    "<a name=\"3.1\"></a>\n",
    "### 3.1 Action Space\n",
    "\n",
    "The agent has four discrete actions available:\n",
    "\n",
    "* Do nothing.\n",
    "* Fire right engine.\n",
    "* Fire main engine.\n",
    "* Fire left engine.\n",
    "\n",
    "Each action has a corresponding numerical value:\n",
    "\n",
    "```python\n",
    "Do nothing = 0\n",
    "Fire right engine = 1\n",
    "Fire main engine = 2\n",
    "Fire left engine = 3\n",
    "```\n",
    "\n",
    "<a name=\"3.2\"></a>\n",
    "### 3.2 Observation Space\n",
    "\n",
    "The agent's observation space consists of a state vector with 8 variables:\n",
    "\n",
    "* Its $(x,y)$ coordinates. The landing pad is always at coordinates $(0,0)$.\n",
    "* Its linear velocities $(\\dot x,\\dot y)$.\n",
    "* Its angle $\\theta$.\n",
    "* Its angular velocity $\\dot \\theta$.\n",
    "* Two booleans, $l$ and $r$, that represent whether each leg is in contact with the ground or not.\n",
    "\n",
    "<a name=\"3.3\"></a>\n",
    "### 3.3 Rewards\n",
    "\n",
    "The Lunar Lander environment has the following reward system:\n",
    "\n",
    "* Landing on the landing pad and coming to rest is about 100-140 points.\n",
    "* If the lander moves away from the landing pad, it loses reward. \n",
    "* If the lander crashes, it receives -100 points.\n",
    "* If the lander comes to rest, it receives +100 points.\n",
    "* Each leg with ground contact is +10 points.\n",
    "* Firing the main engine is -0.3 points each frame.\n",
    "* Firing the side engine is -0.03 points each frame.\n",
    "\n",
    "<a name=\"3.4\"></a>\n",
    "### 3.4 Episode Termination\n",
    "\n",
    "An episode ends (i.e the environment enters a terminal state) if:\n",
    "\n",
    "* The lunar lander crashes (i.e if the body of the lunar lander comes in contact with the surface of the moon).\n",
    "\n",
    "* The absolute value of the lander's $x$-coordinate is greater than 1 (i.e. it goes beyond the left or right border)\n",
    "\n",
    "You can check out the [Open AI Gym documentation](https://www.gymlibrary.dev/environments/box2d/lunar_lander/) for a full description of the environment. "
   ]
  },
  {
   "cell_type": "markdown",
   "metadata": {},
   "source": [
    "<a name=\"4\"></a>\n",
    "## 4 - Load the Environment\n",
    "\n",
    "We start by loading the `LunarLander-v2` environment from the `gym` library by using the `.make()` method. `LunarLander-v2` is the latest version of the Lunar Lander environment and you can read about its version history in the [Open AI Gym documentation](https://www.gymlibrary.dev/environments/box2d/lunar_lander/#version-history)."
   ]
  },
  {
   "cell_type": "code",
   "execution_count": 16,
   "metadata": {
    "id": "ILVMYKewfR0n"
   },
   "outputs": [],
   "source": [
    "env = gym.make('LunarLander-v2')"
   ]
  },
  {
   "cell_type": "markdown",
   "metadata": {},
   "source": [
    "Once we load the environment we use the `.reset()` method to reset the environment to the initial state. The lander starts at the top center of the environment and we can render the first frame of the environment by using the `.render()` method."
   ]
  },
  {
   "cell_type": "code",
   "execution_count": 17,
   "metadata": {},
   "outputs": [
    {
     "data": {
      "image/png": "[encoded data removed]",
      "text/plain": [
       "<PIL.Image.Image image mode=RGB size=600x400 at 0x7FAB8B1299D0>"
      ]
     },
     "execution_count": 17,
     "metadata": {},
     "output_type": "execute_result"
    }
   ],
   "source": [
    "env.reset()\n",
    "PIL.Image.fromarray(env.render(mode='rgb_array'))"
   ]
  },
  {
   "cell_type": "markdown",
   "metadata": {},
   "source": [
    "In order to build our neural network later on we need to know the size of the state vector and the number of valid actions. We can get this information from our environment by using the `.observation_space.shape` and `action_space.n` methods, respectively."
   ]
  },
  {
   "cell_type": "code",
   "execution_count": 18,
   "metadata": {
    "id": "x3fdqdG4CUu2"
   },
   "outputs": [
    {
     "name": "stdout",
     "output_type": "stream",
     "text": [
      "State Shape: (8,)\n",
      "Number of actions: 4\n"
     ]
    }
   ],
   "source": [
    "state_size = env.observation_space.shape\n",
    "num_actions = env.action_space.n\n",
    "\n",
    "print('State Shape:', state_size)\n",
    "print('Number of actions:', num_actions)"
   ]
  },
  {
   "cell_type": "markdown",
   "metadata": {},
   "source": [
    "<a name=\"5\"></a>\n",
    "## 5 - Interacting with the Gym Environment\n",
    "\n",
    "The Gym library implements the standard “agent-environment loop” formalism:\n",
    "\n",
    "<br>\n",
    "<center>\n",
    "<video src = \"./videos/rl_formalism.m4v\" width=\"840\" height=\"480\" controls autoplay loop poster=\"./images/rl_formalism.png\"> </video>\n",
    "<figcaption style = \"text-align:center; font-style:italic\">Fig 2. Agent-environment Loop Formalism.</figcaption>\n",
    "</center>\n",
    "<br>\n",
    "\n",
    "In the standard “agent-environment loop” formalism, an agent interacts with the environment in discrete time steps $t=0,1,2,...$. At each time step $t$, the agent uses a policy $\\pi$ to select an action $A_t$ based on its observation of the environment's state $S_t$. The agent receives a numerical reward $R_t$ and on the next time step, moves to a new state $S_{t+1}$.\n",
    "\n",
    "<a name=\"5.1\"></a>\n",
    "### 5.1 Exploring the Environment's Dynamics\n",
    "\n",
    "In Open AI's Gym environments, we use the `.step()` method to run a single time step of the environment's dynamics. In the version of `gym` that we are using the `.step()` method accepts an action and returns four values:\n",
    "\n",
    "* `observation` (**object**): an environment-specific object representing your observation of the environment. In the Lunar Lander environment this corresponds to a numpy array containing the positions and velocities of the lander as described in section [3.2 Observation Space](#3.2).\n",
    "\n",
    "\n",
    "* `reward` (**float**): amount of reward returned as a result of taking the given action. In the Lunar Lander environment this corresponds to a float of type `numpy.float64` as described in section [3.3 Rewards](#3.3).\n",
    "\n",
    "\n",
    "* `done` (**boolean**): When done is `True`, it indicates the episode has terminated and it’s time to reset the environment. \n",
    "\n",
    "\n",
    "* `info` (**dictionary**): diagnostic information useful for debugging. We won't be using this variable in this notebook but it is shown here for completeness.\n",
    "\n",
    "To begin an episode, we need to reset the environment to an initial state. We do this by using the `.reset()` method. "
   ]
  },
  {
   "cell_type": "code",
   "execution_count": 19,
   "metadata": {},
   "outputs": [],
   "source": [
    "# Reset the environment and get the initial state.\n",
    "initial_state = env.reset()"
   ]
  },
  {
   "cell_type": "markdown",
   "metadata": {},
   "source": [
    "Once the environment is reset, the agent can start taking actions in the environment by using the `.step()` method. Note that the agent can only take one action per time step. \n",
    "\n",
    "In the cell below you can select different actions and see how the returned values change depending on the action taken. Remember that in this environment the agent has four discrete actions available and we specify them in code by using their corresponding numerical value:\n",
    "\n",
    "```python\n",
    "Do nothing = 0\n",
    "Fire right engine = 1\n",
    "Fire main engine = 2\n",
    "Fire left engine = 3\n",
    "```"
   ]
  },
  {
   "cell_type": "code",
   "execution_count": 20,
   "metadata": {},
   "outputs": [
    {
     "data": {
      "text/html": [
       "<table class=\"simpletable\">\n",
       "<tr>\n",
       "  <th>Initial State:</th>      <td>[0.002 1.422 0.194 0.506 -0.002 -0.044 0.000 0.000]</td>\n",
       "</tr>\n",
       "<tr>\n",
       "  <th>Action:</th>                                 <td>Do nothing</td>                     \n",
       "</tr>\n",
       "<tr>\n",
       "  <th>Next State:</th>         <td>[0.004 1.433 0.194 0.480 -0.004 -0.044 0.000 0.000]</td>\n",
       "</tr>\n",
       "<tr>\n",
       "  <th>Reward Received:</th>                           <td>1.104</td>                       \n",
       "</tr>\n",
       "<tr>\n",
       "  <th>Episode Terminated:</th>                        <td>False</td>                       \n",
       "</tr>\n",
       "</table>"
      ],
      "text/plain": [
       "<class 'statsmodels.iolib.table.SimpleTable'>"
      ]
     },
     "execution_count": 20,
     "metadata": {},
     "output_type": "execute_result"
    }
   ],
   "source": [
    "# Select an action.\n",
    "action = 0\n",
    "\n",
    "# Run a single time step of the environment's dynamics with the given action.\n",
    "next_state, reward, done, _ = env.step(action)\n",
    "\n",
    "# Display table with values. All values are displayed to 3 decimal places.\n",
    "utils.display_table(initial_state, action, next_state, reward, done)"
   ]
  },
  {
   "cell_type": "markdown",
   "metadata": {},
   "source": [
    "In practice, when we train the agent we use a loop to allow the agent to take many consecutive actions during an episode."
   ]
  },
  {
   "cell_type": "markdown",
   "metadata": {},
   "source": [
    "<a name=\"6\"></a>\n",
    "## 6 - Deep Q-Learning\n",
    "\n",
    "In cases where both the state and action space are discrete we can estimate the action-value function iteratively by using the Bellman equation:\n",
    "\n",
    "$$\n",
    "Q_{i+1}(s,a) = R + \\gamma \\max_{a'}Q_i(s',a')\n",
    "$$\n",
    "\n",
    "This iterative method converges to the optimal action-value function $Q^*(s,a)$ as $i\\to\\infty$. This means that the agent just needs to gradually explore the state-action space and keep updating the estimate of $Q(s,a)$ until it converges to the optimal action-value function $Q^*(s,a)$. However, in cases where the state space is continuous it becomes practically impossible to explore the entire state-action space. Consequently, this also makes it practically impossible to gradually estimate $Q(s,a)$ until it converges to $Q^*(s,a)$.\n",
    "\n",
    "In the Deep $Q$-Learning, we solve this problem by using a neural network to estimate the action-value function $Q(s,a)\\approx Q^*(s,a)$. We call this neural network a $Q$-Network and it can be trained by adjusting its weights at each iteration to minimize the mean-squared error in the Bellman equation.\n",
    "\n",
    "Unfortunately, using neural networks in reinforcement learning to estimate action-value functions has proven to be highly unstable. Luckily, there's a couple of techniques that can be employed to avoid instabilities. These techniques consist of using a ***Target Network*** and ***Experience Replay***. We will explore these two techniques in the following sections."
   ]
  },
  {
   "cell_type": "markdown",
   "metadata": {},
   "source": [
    "<a name=\"6.1\"></a>\n",
    "### 6.1 Target Network\n",
    "\n",
    "We can train the $Q$-Network by adjusting it's weights at each iteration to minimize the mean-squared error in the Bellman equation, where the target values are given by:\n",
    "\n",
    "$$\n",
    "y = R + \\gamma \\max_{a'}Q(s',a';w)\n",
    "$$\n",
    "\n",
    "where $w$ are the weights of the $Q$-Network. This means that we are adjusting the weights $w$ at each iteration to minimize the following error:\n",
    "\n",
    "$$\n",
    "\\overbrace{\\underbrace{R + \\gamma \\max_{a'}Q(s',a'; w)}_{\\rm {y~target}} - Q(s,a;w)}^{\\rm {Error}}\n",
    "$$\n",
    "\n",
    "Notice that this forms a problem because the $y$ target is changing on every iteration. Having a constantly moving target can lead to oscillations and instabilities. To avoid this, we can create\n",
    "a separate neural network for generating the $y$ targets. We call this separate neural network the **target $\\hat Q$-Network** and it will have the same architecture as the original $Q$-Network. By using the target $\\hat Q$-Network, the above error becomes:\n",
    "\n",
    "$$\n",
    "\\overbrace{\\underbrace{R + \\gamma \\max_{a'}\\hat{Q}(s',a'; w^-)}_{\\rm {y~target}} - Q(s,a;w)}^{\\rm {Error}}\n",
    "$$\n",
    "\n",
    "where $w^-$ and $w$ are the weights the target $\\hat Q$-Network and $Q$-Network, respectively.\n",
    "\n",
    "In practice, we will use the following algorithm: every $C$ time steps we will use the $\\hat Q$-Network to generate the $y$ targets and update the weights of the target $\\hat Q$-Network using the weights of the $Q$-Network. We will update the weights $w^-$ of the the target $\\hat Q$-Network using a **soft update**. This means that we will update the weights $w^-$ using the following rule:\n",
    " \n",
    "$$\n",
    "w^-\\leftarrow \\tau w + (1 - \\tau) w^-\n",
    "$$\n",
    "\n",
    "where $\\tau\\ll 1$. By using the soft update, we are ensuring that the target values, $y$, change slowly, which greatly improves the stability of our learning algorithm."
   ]
  },
  {
   "cell_type": "markdown",
   "metadata": {},
   "source": [
    "<a name=\"ex01\"></a>\n",
    "### Exercise 1\n",
    "\n",
    "In this exercise you will create the $Q$ and target $\\hat Q$ networks and set the optimizer. Remember that the Deep $Q$-Network (DQN) is a neural network that approximates the action-value function $Q(s,a)\\approx Q^*(s,a)$. It does this by learning how to map states to $Q$ values.\n",
    "\n",
    "To solve the Lunar Lander environment, we are going to employ a DQN with the following architecture:\n",
    "\n",
    "* An `Input` layer that takes `state_size` as input.\n",
    "\n",
    "* A `Dense` layer with `64` units and a `relu` activation function.\n",
    "\n",
    "* A `Dense` layer with `64` units and a `relu` activation function.\n",
    "\n",
    "* A `Dense` layer with `num_actions` units and a `linear` activation function. This will be the output layer of our network.\n",
    "\n",
    "\n",
    "In the cell below you should create the $Q$-Network and the target $\\hat Q$-Network using the model architecture described above. Remember that both the $Q$-Network and the target $\\hat Q$-Network have the same architecture.\n",
    "\n",
    "Lastly, you should set `Adam` as the optimizer with a learning rate equal to `ALPHA`. Recall that `ALPHA` was defined in the [Hyperparameters](#2) section. We should note that for this exercise you should use the already imported packages:\n",
    "```python\n",
    "from tensorflow.keras.layers import Dense, Input\n",
    "from tensorflow.keras.optimizers import Adam\n",
    "```"
   ]
  },
  {
   "cell_type": "code",
   "execution_count": 21,
   "metadata": {},
   "outputs": [],
   "source": [
    "# UNQ_C1\n",
    "# GRADED CELL\n",
    "\n",
    "# Create the Q-Network.\n",
    "q_network = Sequential([\n",
    "    ### START CODE HERE ### \n",
    "    Input(shape=state_size),                      \n",
    "    Dense(units=64, activation='relu'),            \n",
    "    Dense(units=64, activation='relu'),            \n",
    "    Dense(units=num_actions, activation='linear'),\n",
    "    ### END CODE HERE ### \n",
    "    ])\n",
    "\n",
    "# Create the target Q^-Network.\n",
    "target_q_network = Sequential([\n",
    "    ### START CODE HERE ### \n",
    "    Input(shape=state_size),                      \n",
    "    Dense(units=64, activation='relu'),            \n",
    "    Dense(units=64, activation='relu'),            \n",
    "    Dense(units=num_actions, activation='linear'),\n",
    "    ### END CODE HERE ###\n",
    "    ])\n",
    "\n",
    "### START CODE HERE ### \n",
    "optimizer = Adam(learning_rate=ALPHA)\n",
    "### END CODE HERE ###"
   ]
  },
  {
   "cell_type": "code",
   "execution_count": 22,
   "metadata": {},
   "outputs": [
    {
     "name": "stdout",
     "output_type": "stream",
     "text": [
      "\u001b[92mAll tests passed!\n",
      "\u001b[92mAll tests passed!\n",
      "\u001b[92mAll tests passed!\n"
     ]
    }
   ],
   "source": [
    "# UNIT TEST\n",
    "from public_tests import *\n",
    "\n",
    "test_network(q_network)\n",
    "test_network(target_q_network)\n",
    "test_optimizer(optimizer, ALPHA) "
   ]
  },
  {
   "cell_type": "markdown",
   "metadata": {},
   "source": [
    "<details>\n",
    "  <summary><font size=\"3\" color=\"darkgreen\"><b>Click for hints</b></font></summary>\n",
    "    \n",
    "```python\n",
    "# Create the Q-Network.\n",
    "q_network = Sequential([\n",
    "    Input(shape=state_size),                      \n",
    "    Dense(units=64, activation='relu'),            \n",
    "    Dense(units=64, activation='relu'),            \n",
    "    Dense(units=num_actions, activation='linear'),\n",
    "    ])\n",
    "\n",
    "# Create the target Q^-Network.\n",
    "target_q_network = Sequential([\n",
    "    Input(shape=state_size),                       \n",
    "    Dense(units=64, activation='relu'),            \n",
    "    Dense(units=64, activation='relu'),            \n",
    "    Dense(units=num_actions, activation='linear'), \n",
    "    ])\n",
    "\n",
    "optimizer = Adam(learning_rate=ALPHA)                                  \n",
    "``` "
   ]
  },
  {
   "cell_type": "markdown",
   "metadata": {},
   "source": [
    "<a name=\"6.2\"></a>\n",
    "### 6.2 Experience Replay\n",
    "\n",
    "When an agent interacts with the environment, the states, actions, and rewards the agent experiences are sequential by nature. If the agent tries to learn from these consecutive experiences it can run into problems due to the strong correlations between them. To avoid this, we employ a technique known as **Experience Replay** to generate uncorrelated experiences for training our agent. Experience replay consists of storing the agent's experiences (i.e the states, actions, and rewards the agent receives) in a memory buffer and then sampling a random mini-batch of experiences from the buffer to do the learning. The experience tuples $(S_t, A_t, R_t, S_{t+1})$ will be added to the memory buffer at each time step as the agent interacts with the environment.\n",
    "\n",
    "For convenience, we will store the experiences as named tuples."
   ]
  },
  {
   "cell_type": "code",
   "execution_count": 23,
   "metadata": {},
   "outputs": [],
   "source": [
    "# Store experiences as named tuples.\n",
    "experience = namedtuple(\"Experience\", field_names=[\"state\", \"action\", \"reward\", \"next_state\", \"done\"])"
   ]
  },
  {
   "cell_type": "markdown",
   "metadata": {},
   "source": [
    "By using experience replay we avoid problematic correlations, oscillations and instabilities. In addition, experience replay also allows the agent to potentially use the same experience in multiple weight updates, which increases data efficiency."
   ]
  },
  {
   "cell_type": "markdown",
   "metadata": {},
   "source": [
    "<a name=\"7\"></a>\n",
    "## 7 - Deep Q-Learning Algorithm with Experience Replay\n",
    "\n",
    "Now that we know all the techniques that we are going to use, we can put them together to arrive at the Deep Q-Learning Algorithm With Experience Replay.\n",
    "<br>\n",
    "<br>\n",
    "<figure>\n",
    "  <img src = \"images/deep_q_algorithm.png\" width = 90% style = \"border: thin silver solid; padding: 0px\">\n",
    "      <figcaption style = \"text-align: center; font-style: italic\">Fig 3. Deep Q-Learning with Experience Replay.</figcaption>\n",
    "</figure>"
   ]
  },
  {
   "cell_type": "markdown",
   "metadata": {},
   "source": [
    "<a name=\"ex02\"></a>\n",
    "### Exercise 2\n",
    "\n",
    "In this exercise you will implement line ***12*** of the algorithm outlined in *Fig 3* above and you will also compute the loss between the $y$ targets and the $Q(s,a)$ values. In the cell below, complete the `compute_loss` function by setting the $y$ targets equal to:\n",
    "\n",
    "$$\n",
    "\\begin{equation}\n",
    "    y_j =\n",
    "    \\begin{cases}\n",
    "      R_j & \\text{if episode terminates at step  } j+1\\\\\n",
    "      R_j + \\gamma \\max_{a'}\\hat{Q}(s_{j+1},a') & \\text{otherwise}\\\\\n",
    "    \\end{cases}       \n",
    "\\end{equation}\n",
    "$$\n",
    "\n",
    "Here are a couple of things to note:\n",
    "\n",
    "* The `compute_loss` function takes in a mini-batch of experience tuples. This mini-batch of experience tuples is unpacked to extract the `states`, `actions`, `rewards`, `next_states`, and `done_vals`. You should keep in mind that these variables are *TensorFlow Tensors* whose size will depend on the mini-batch size. For example, if the mini-batch size is `64` then both `rewards` and `done_vals` will be TensorFlow Tensors with `64` elements.\n",
    "\n",
    "\n",
    "* Using `if/else` statements to set the $y$ targets will not work when the variables are tensors with many elements. However, notice that you can use the `done_vals` to implement the above in a single line of code. To do this, recall that the `done` variable is a Boolean variable that takes the value `True` when an episode terminates at step $j+1$ and it is `False` otherwise. Taking into account that a Boolean value of `True` has the numerical value of `1` and a Boolean value of `False` has the numerical value of `0`, you can use the factor `(1 - done_vals)` to implement the above in a single line of code. Here's a hint: notice that `(1 - done_vals)` has a value of `0` when `done_vals` is `True` and a value of `1` when `done_vals` is `False`. \n",
    "\n",
    "Lastly, compute the loss by calculating the Mean-Squared Error (`MSE`) between the `y_targets` and the `q_values`. To calculate the mean-squared error you should use the already imported package `MSE`:\n",
    "```python\n",
    "from tensorflow.keras.losses import MSE\n",
    "```"
   ]
  },
  {
   "cell_type": "code",
   "execution_count": 24,
   "metadata": {},
   "outputs": [],
   "source": [
    "# UNQ_C2\n",
    "# GRADED FUNCTION: calculate_loss\n",
    "\n",
    "def compute_loss(experiences, gamma, q_network, target_q_network):\n",
    "    \"\"\" \n",
    "    Calculates the loss.\n",
    "    \n",
    "    Args:\n",
    "      experiences: (tuple) tuple of [\"state\", \"action\", \"reward\", \"next_state\", \"done\"] namedtuples\n",
    "      gamma: (float) The discount factor.\n",
    "      q_network: (tf.keras.Sequential) Keras model for predicting the q_values\n",
    "      target_q_network: (tf.keras.Sequential) Keras model for predicting the targets\n",
    "          \n",
    "    Returns:\n",
    "      loss: (TensorFlow Tensor(shape=(0,), dtype=int32)) the Mean-Squared Error between\n",
    "            the y targets and the Q(s,a) values.\n",
    "    \"\"\"\n",
    "    \n",
    "    # Unpack the mini-batch of experience tuples.\n",
    "    states, actions, rewards, next_states, done_vals = experiences\n",
    "    \n",
    "    # Compute max Q^(s,a).\n",
    "    max_qsa = tf.reduce_max(target_q_network(next_states), axis=-1)\n",
    "    \n",
    "    # Set y = R if episode terminates, otherwise set y = R + γ max Q^(s,a).\n",
    "    ### START CODE HERE ### \n",
    "    y_targets = rewards + (gamma * max_qsa * (1 - done_vals))\n",
    "    ### END CODE HERE ###\n",
    "    \n",
    "    # Get the q_values.\n",
    "    q_values = q_network(states)\n",
    "    q_values = tf.gather_nd(q_values, tf.stack([tf.range(q_values.shape[0]),\n",
    "                                                tf.cast(actions, tf.int32)], axis=1))\n",
    "        \n",
    "    # Compute the loss.\n",
    "    ### START CODE HERE ### \n",
    "    loss = MSE(y_targets, q_values)\n",
    "    ### END CODE HERE ### \n",
    "    \n",
    "    return loss"
   ]
  },
  {
   "cell_type": "code",
   "execution_count": 25,
   "metadata": {},
   "outputs": [
    {
     "name": "stdout",
     "output_type": "stream",
     "text": [
      "\u001b[92mAll tests passed!\n"
     ]
    }
   ],
   "source": [
    "# UNIT TEST    \n",
    "test_compute_loss(compute_loss)"
   ]
  },
  {
   "cell_type": "markdown",
   "metadata": {},
   "source": [
    "<details>\n",
    "  <summary><font size=\"3\" color=\"darkgreen\"><b>Click for hints</b></font></summary>\n",
    "    \n",
    "```python\n",
    "def compute_loss(experiences, gamma, q_network, target_q_network):\n",
    "    \"\"\" \n",
    "    Calculates the loss.\n",
    "    \n",
    "    Args:\n",
    "      experiences: (tuple) tuple of [\"state\", \"action\", \"reward\", \"next_state\", \"done\"] namedtuples\n",
    "      gamma: (float) The discount factor.\n",
    "      q_network: (tf.keras.Sequential) Keras model for predicting the q_values\n",
    "      target_q_network: (tf.keras.Sequential) Keras model for predicting the targets\n",
    "          \n",
    "    Returns:\n",
    "      loss: (TensorFlow Tensor(shape=(0,), dtype=int32)) the Mean-Squared Error between\n",
    "            the y targets and the Q(s,a) values.\n",
    "    \"\"\"\n",
    "\n",
    "    \n",
    "    # Unpack the mini-batch of experience tuples.\n",
    "    states, actions, rewards, next_states, done_vals = experiences\n",
    "    \n",
    "    # Compute max Q^(s,a).\n",
    "    max_qsa = tf.reduce_max(target_q_network(next_states), axis=-1)\n",
    "    \n",
    "    # Set y = R if episode terminates, otherwise set y = R + γ max Q^(s,a).\n",
    "    y_targets = rewards + (gamma * max_qsa * (1 - done_vals))\n",
    "    \n",
    "    # Get the q_values.\n",
    "    q_values = q_network(states)\n",
    "    q_values = tf.gather_nd(q_values, tf.stack([tf.range(q_values.shape[0]),\n",
    "                                                tf.cast(actions, tf.int32)], axis=1))\n",
    "    \n",
    "    # Calculate the loss.\n",
    "    loss = MSE(y_targets, q_values)\n",
    "    \n",
    "    return loss\n",
    "\n",
    "``` \n",
    "    "
   ]
  },
  {
   "cell_type": "markdown",
   "metadata": {},
   "source": [
    "<a name=\"8\"></a>\n",
    "## 8 - Update the Network Weights\n",
    "\n",
    "We will use the `agent_learn` function below to implement lines ***12 -14*** of the algorithm outlined in [Fig 3](#7). The `agent_learn` function will update the weights of the $Q$ and target $\\hat Q$ networks using a custom training loop. Because we are using a custom training loop we need to retrieve the gradients via a `tf.GradientTape` instance, and then call `optimizer.apply_gradients()` to update the weights of our $Q$-Network. Note that we are also using the `@tf.function` decorator to increase performance. Without this decorator our training will take twice as long. If you would like to know more about how to increase performance with `@tf.function` take a look at the [TensorFlow documentation](https://www.tensorflow.org/guide/function).\n",
    "\n",
    "The last line of this function updates the weights of the target $\\hat Q$-Network using a [soft update](#6.1). If you want to know how this is implemented in code we encourage you to take a look at the `utils.update_target_network` function in the `utils` module."
   ]
  },
  {
   "cell_type": "code",
   "execution_count": 26,
   "metadata": {},
   "outputs": [],
   "source": [
    "@tf.function\n",
    "def agent_learn(experiences, gamma):\n",
    "    \"\"\"\n",
    "    Updates the weights of the Q networks.\n",
    "    \n",
    "    Args:\n",
    "      experiences: (tuple) tuple of [\"state\", \"action\", \"reward\", \"next_state\", \"done\"] namedtuples\n",
    "      gamma: (float) The discount factor.\n",
    "    \n",
    "    \"\"\"\n",
    "    \n",
    "    # Calculate the loss.\n",
    "    with tf.GradientTape() as tape:\n",
    "        loss = compute_loss(experiences, gamma, q_network, target_q_network)\n",
    "\n",
    "    # Get the gradients of the loss with respect to the weights.\n",
    "    gradients = tape.gradient(loss, q_network.trainable_variables)\n",
    "    \n",
    "    # Update the weights of the q_network.\n",
    "    optimizer.apply_gradients(zip(gradients, q_network.trainable_variables))\n",
    "\n",
    "    # update the weights of target q_network.\n",
    "    utils.update_target_network(q_network, target_q_network)"
   ]
  },
  {
   "cell_type": "markdown",
   "metadata": {},
   "source": [
    "<a name=\"9\"></a>\n",
    "## 9 - Train the Agent\n",
    "\n",
    "We are now ready to train our agent to solve the Lunar Lander environment. In the cell below we will implement the algorithm in [Fig 3](#7) line by line (please note that we have included the same algorithm below for easy reference. This will prevent you from scrolling up and down the notebook):\n",
    "\n",
    "* **Line 1**: We initialize the `memory_buffer` with a capacity of $N =$ `MEMORY_SIZE`. Notice that we are using a `deque` as the data structure for our `memory_buffer`.\n",
    "\n",
    "\n",
    "* **Line 2**: We skip this line since we already initialized the `q_network` in [Exercise 1](#ex01).\n",
    "\n",
    "\n",
    "* **Line 3**: We initialize the `target_q_network` by setting its weights to be equal to those of the `q_network`.\n",
    "\n",
    "\n",
    "* **Line 4**: We start the outer loop. Notice that we have set $M =$ `num_episodes = 2000`. This number is reasonable because the agent should be able to solve the Lunar Lander environment in less than `2000` episodes using this notebook's default parameters.\n",
    "\n",
    "\n",
    "* **Line 5**: We use the `.reset()` method to reset the environment to the initial state and get the initial state.\n",
    "\n",
    "\n",
    "* **Line 6**: We start the inner loop. Notice that we have set $T =$ `max_num_timesteps = 1000`. This means that the episode will automatically terminate if the episode hasn't terminated after `1000` time steps.\n",
    "\n",
    "\n",
    "* **Line 7**: The agent observes the current `state` and chooses an `action` using an $\\epsilon$-greedy policy. Our agent starts out using a value of $\\epsilon =$ `epsilon = 1` which yields an $\\epsilon$-greedy policy that is equivalent to the equiprobable random policy. This means that at the beginning of our training, the agent is just going to take random actions regardless of the observed `state`. As training progresses we will decrease the value of $\\epsilon$ slowly towards a minimum value using a given $\\epsilon$-decay rate. We want this minimum value to be close to zero because a value of $\\epsilon = 0$ will yield an $\\epsilon$-greedy policy that is equivalent to the greedy policy. This means that towards the end of training, the agent will lean towards selecting the `action` that it believes (based on its past experiences) will maximize $Q(s,a)$. We will set the minimum $\\epsilon$ value to be `0.01` and not exactly 0 because we always want to keep a little bit of exploration during training. If you want to know how this is implemented in code we encourage you to take a look at the `utils.get_action` function in the `utils` module.\n",
    "\n",
    "\n",
    "* **Line 8**: We use the `.step()` method to take the given `action` in the environment and get the `reward` and the `next_state`. \n",
    "\n",
    "\n",
    "* **Line 9**: We store the `experience(state, action, reward, next_state, done)` tuple in our `memory_buffer`. Notice that we also store the `done` variable so that we can keep track of when an episode terminates. This allowed us to set the $y$ targets in [Exercise 2](#ex02).\n",
    "\n",
    "\n",
    "* **Line 10**: We check if the conditions are met to perform a learning update. We do this by using our custom `utils.check_update_conditions` function. This function checks if $C =$ `NUM_STEPS_FOR_UPDATE = 4` time steps have occured and if our `memory_buffer` has enough experience tuples to fill a mini-batch. For example, if the mini-batch size is `64`, then our `memory_buffer` should have more than `64` experience tuples in order to pass the latter condition. If the conditions are met, then the `utils.check_update_conditions` function will return a value of `True`, otherwise it will return a value of `False`.\n",
    "\n",
    "\n",
    "* **Lines 11 - 14**: If the `update` variable is `True` then we perform a learning update. The learning update consists of sampling a random mini-batch of experience tuples from our `memory_buffer`, setting the $y$ targets, performing gradient descent, and updating the weights of the networks. We will use the `agent_learn` function we defined in [Section 8](#8) to perform the latter 3.\n",
    "\n",
    "\n",
    "* **Line 15**: At the end of each iteration of the inner loop we set `next_state` as our new `state` so that the loop can start again from this new state. In addition, we check if the episode has reached a terminal state (i.e we check if `done = True`). If a terminal state has been reached, then we break out of the inner loop.\n",
    "\n",
    "\n",
    "* **Line 16**: At the end of each iteration of the outer loop we update the value of $\\epsilon$, and check if the environment has been solved. We consider that the environment has been solved if the agent receives an average of `200` points in the last `100` episodes. If the environment has not been solved we continue the outer loop and start a new episode.\n",
    "\n",
    "Finally, we wanted to note that we have included some extra variables to keep track of the total number of points the agent received in each episode. This will help us determine if the agent has solved the environment and it will also allow us to see how our agent performed during training. We also use the `time` module to measure how long the training takes. \n",
    "\n",
    "<br>\n",
    "<br>\n",
    "<figure>\n",
    "  <img src = \"images/deep_q_algorithm.png\" width = 90% style = \"border: thin silver solid; padding: 0px\">\n",
    "      <figcaption style = \"text-align: center; font-style: italic\">Fig 4. Deep Q-Learning with Experience Replay.</figcaption>\n",
    "</figure>\n",
    "<br>\n",
    "\n",
    "**Note:** With this notebook's default parameters, the following cell takes between 10 to 15 minutes to run. "
   ]
  },
  {
   "cell_type": "code",
   "execution_count": 27,
   "metadata": {},
   "outputs": [
    {
     "name": "stdout",
     "output_type": "stream",
     "text": [
      "Episode 100 | Total point average of the last 100 episodes: -150.85\n",
      "Episode 200 | Total point average of the last 100 episodes: -106.11\n",
      "Episode 300 | Total point average of the last 100 episodes: -77.256\n",
      "Episode 400 | Total point average of the last 100 episodes: -25.01\n",
      "Episode 500 | Total point average of the last 100 episodes: 159.91\n",
      "Episode 534 | Total point average of the last 100 episodes: 201.37\n",
      "\n",
      "Environment solved in 534 episodes!\n",
      "\n",
      "Total Runtime: 721.08 s (12.02 min)\n"
     ]
    }
   ],
   "source": [
    "start = time.time()\n",
    "\n",
    "num_episodes = 2000\n",
    "max_num_timesteps = 1000\n",
    "\n",
    "total_point_history = []\n",
    "\n",
    "num_p_av = 100    # number of total points to use for averaging.\n",
    "epsilon = 1.0     # initial ε value for ε-greedy policy.\n",
    "\n",
    "# Create a memory buffer D with capacity N.\n",
    "memory_buffer = deque(maxlen=MEMORY_SIZE)\n",
    "\n",
    "# Set the target network weights equal to the Q-Network weights.\n",
    "target_q_network.set_weights(q_network.get_weights())\n",
    "\n",
    "for i in range(num_episodes):\n",
    "    \n",
    "    # Reset the environment to the initial state and get the initial state.\n",
    "    state = env.reset()\n",
    "    total_points = 0\n",
    "    \n",
    "    for t in range(max_num_timesteps):\n",
    "        \n",
    "        # From the current state S choose an action A using an ε-greedy policy.\n",
    "        state_qn = np.expand_dims(state, axis=0)  # state needs to be the right shape for the q_network.\n",
    "        q_values = q_network(state_qn)\n",
    "        action = utils.get_action(q_values, epsilon)\n",
    "        \n",
    "        # Take action A and receive reward R and the next state S'.\n",
    "        next_state, reward, done, _ = env.step(action)\n",
    "        \n",
    "        # Store experience tuple (S,A,R,S') in the memory buffer.\n",
    "        # We store the done variable as well for convenience.\n",
    "        memory_buffer.append(experience(state, action, reward, next_state, done))\n",
    "        \n",
    "        # Only update the network every NUM_STEPS_FOR_UPDATE time steps.\n",
    "        update = utils.check_update_conditions(t, NUM_STEPS_FOR_UPDATE, memory_buffer)\n",
    "        \n",
    "        if update:\n",
    "            # Sample random mini-batch of experience tuples (S,A,R,S') from D.\n",
    "            experiences = utils.get_experiences(memory_buffer)\n",
    "            \n",
    "            # Set the y targets, perform a gradient descent step,\n",
    "            # and update the network weights.\n",
    "            agent_learn(experiences, GAMMA)\n",
    "        \n",
    "        state = next_state.copy()\n",
    "        total_points += reward\n",
    "        \n",
    "        if done:\n",
    "            break\n",
    "            \n",
    "    total_point_history.append(total_points)\n",
    "    av_latest_points = np.mean(total_point_history[-num_p_av:])\n",
    "    \n",
    "    # Update the ε value.\n",
    "    epsilon = utils.get_new_eps(epsilon)\n",
    "\n",
    "    print(f\"\\rEpisode {i+1} | Total point average of the last {num_p_av} episodes: {av_latest_points:.2f}\", end=\"\")\n",
    "\n",
    "    if (i+1) % num_p_av == 0:\n",
    "        print(f\"\\rEpisode {i+1} | Total point average of the last {num_p_av} episodes: {av_latest_points:.2f}\")\n",
    "\n",
    "    # We will consider that the environment is solved if we get an\n",
    "    # average of 200 points in the last 100 episodes.\n",
    "    if av_latest_points >= 200.0:\n",
    "        print(f\"\\n\\nEnvironment solved in {i+1} episodes!\")\n",
    "        q_network.save('lunar_lander_model.h5')\n",
    "        break\n",
    "        \n",
    "tot_time = time.time() - start\n",
    "\n",
    "print(f\"\\nTotal Runtime: {tot_time:.2f} s ({(tot_time/60):.2f} min)\")"
   ]
  },
  {
   "cell_type": "markdown",
   "metadata": {},
   "source": [
    "We can plot the total point history along with the moving average to see how our agent improved during training. If you want to know about the different plotting options available in the `utils.plot_history` function we encourage you to take a look at the `utils` module."
   ]
  },
  {
   "cell_type": "code",
   "execution_count": 28,
   "metadata": {
    "id": "E_EUXxurfe8m",
    "scrolled": false
   },
   "outputs": [
    {
     "data": {
      "image/png": "[encoded data removed]",
      "text/plain": [
       "<Figure size 720x504 with 1 Axes>"
      ]
     },
     "metadata": {},
     "output_type": "display_data"
    }
   ],
   "source": [
    "# Plot the total point history along with the moving average.\n",
    "utils.plot_history(total_point_history)"
   ]
  },
  {
   "cell_type": "markdown",
   "metadata": {
    "id": "c_xwgaX5MnYt"
   },
   "source": [
    "<a name=\"10\"></a>\n",
    "## 10 - See the Trained Agent In Action\n",
    "\n",
    "Now that we have trained our agent, we can see it in action. We will use the `utils.create_video` function to create a video of our agent interacting with the environment using the trained $Q$-Network. The `utils.create_video` function uses the `imageio` library to create the video. This library produces some warnings that can be distracting, so, to suppress these warnings we run the code below."
   ]
  },
  {
   "cell_type": "code",
   "execution_count": 29,
   "metadata": {},
   "outputs": [],
   "source": [
    "# Suppress warnings from imageio.\n",
    "import logging\n",
    "logging.getLogger().setLevel(logging.ERROR)"
   ]
  },
  {
   "cell_type": "markdown",
   "metadata": {},
   "source": [
    "In the cell below we create a video of our agent interacting with the Lunar Lander environment using the trained `q_network`. The video is saved to the `videos` folder with the given `filename`. We use the `utils.embed_mp4` function to embed the video in the Jupyter Notebook so that we can see it here directly without having to download it.\n",
    "\n",
    "We should note that since the lunar lander starts with a random initial force applied to its center of mass, every time you run the cell below you will see a different video. If the agent was trained properly, it should be able to land the lunar lander in the landing pad every time, regardless of the initial force applied to its center of mass."
   ]
  },
  {
   "cell_type": "code",
   "execution_count": 33,
   "metadata": {
    "id": "3Ttb_zLeJKiG"
   },
   "outputs": [
    {
     "data": {
      "text/html": [
       "\n",
       "    <video width=\"840\" height=\"480\" controls>\n",
       "    <source src=\"data:video/mp4;base64,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\" type=\"video/mp4\">\n",
       "    Your browser does not support the video tag.\n",
       "    </video>"
      ],
      "text/plain": [
       "<IPython.core.display.HTML object>"
      ]
     },
     "execution_count": 33,
     "metadata": {},
     "output_type": "execute_result"
    }
   ],
   "source": [
    "filename = \"./videos/lunar_lander.mp4\"\n",
    "\n",
    "utils.create_video(filename, env, q_network)\n",
    "utils.embed_mp4(filename)"
   ]
  },
  {
   "cell_type": "markdown",
   "metadata": {},
   "source": [
    "<a name=\"11\"></a>\n",
    "## 11 - Congratulations!\n",
    "\n",
    "You have successfully used Deep Q-Learning with Experience Replay to train an agent to land a lunar lander safely on a landing pad on the surface of the moon. Congratulations!"
   ]
  },
  {
   "cell_type": "markdown",
   "metadata": {},
   "source": [
    "<a name=\"12\"></a>\n",
    "## 12 - References\n",
    "\n",
    "If you would like to learn more about Deep Q-Learning, we recommend you check out the following papers.\n",
    "\n",
    "\n",
    "* Mnih, V., Kavukcuoglu, K., Silver, D. et al. Human-level control through deep reinforcement learning. Nature 518, 529–533 (2015).\n",
    "\n",
    "\n",
    "* Lillicrap, T. P., Hunt, J. J., Pritzel, A., et al. Continuous Control with Deep Reinforcement Learning. ICLR (2016).\n",
    "\n",
    "\n",
    "* Mnih, V., Kavukcuoglu, K., Silver, D. et al. Playing Atari with Deep Reinforcement Learning. arXiv e-prints.  arXiv:1312.5602 (2013)."
   ]
  },
  {
   "cell_type": "code",
   "execution_count": null,
   "metadata": {},
   "outputs": [],
   "source": []
  }
 ],
 "metadata": {
  "accelerator": "GPU",
  "colab": {
   "collapsed_sections": [],
   "name": "TensorFlow - Lunar Lander.ipynb",
   "provenance": []
  },
  "kernelspec": {
   "display_name": "Python 3",
   "language": "python",
   "name": "python3"
  },
  "language_info": {
   "codemirror_mode": {
    "name": "ipython",
    "version": 3
   },
   "file_extension": ".py",
   "mimetype": "text/x-python",
   "name": "python",
   "nbconvert_exporter": "python",
   "pygments_lexer": "ipython3",
   "version": "3.7.6"
  }
 },
 "nbformat": 4,
 "nbformat_minor": 1
}
